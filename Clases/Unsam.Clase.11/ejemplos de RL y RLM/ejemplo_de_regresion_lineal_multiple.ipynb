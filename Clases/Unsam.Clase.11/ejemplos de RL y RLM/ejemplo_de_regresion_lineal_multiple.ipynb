{
 "cells": [
  {
   "cell_type": "markdown",
   "id": "40f5c782",
   "metadata": {},
   "source": [
    "# Regresión lineal Múltiple"
   ]
  },
  {
   "cell_type": "code",
   "execution_count": null,
   "id": "8e5d9456",
   "metadata": {},
   "outputs": [],
   "source": [
    "sdasd"
   ]
  },
  {
   "cell_type": "markdown",
   "id": "f86ed418",
   "metadata": {},
   "source": [
    "Realizamos una regresión lineal que involucra dos variables. Casi todos los problemas del mundo real con los que nos vamos a encontrar tendrán más de dos variables. La regresión lineal que involucra múltiples variables se llama __\"regresión lineal múltiple\"__ o __\"regresión lineal multivariable\"__. \n",
    "\n",
    "Los pasos para realizar la regresión lineal múltiple son casi similares a los de la regresión lineal simple. La diferencia radica en la evaluación. Se puede utilizar para averiguar qué factor tiene el mayor impacto en el resultado previsto y cómo se relacionan las diferentes variables entre sí."
   ]
  },
  {
   "cell_type": "markdown",
   "id": "cf6a69fe",
   "metadata": {},
   "source": [
    "Tenemos un dataset de la calidad del vino tinto. El dataset corresponde a las variantes rojas del vino portugués \"Vinho Verde\". Sólo se dispone de variables físico-químicas (los insumos) y sensoriales (el producto) (por ejemplo, no hay datos sobre los tipos de uva, la marca del vino, el precio de venta del vino, etc.).\n",
    "\n",
    "Tendremos en cuenta varios atributos de entrada y basándonos en estos atributos haremos la __predicción sobre la calidad del vino__."
   ]
  },
  {
   "cell_type": "code",
   "execution_count": null,
   "id": "4d8005f7",
   "metadata": {},
   "outputs": [],
   "source": [
    "import pandas as pd \n",
    "import numpy as np \n",
    "import matplotlib.pyplot as plt \n",
    "import seaborn as sns\n",
    "from sklearn.model_selection import train_test_split\n",
    "from sklearn.linear_model import LinearRegression\n",
    "from sklearn import metrics\n",
    "%matplotlib inline"
   ]
  },
  {
   "cell_type": "code",
   "execution_count": null,
   "id": "3ce7ad88",
   "metadata": {},
   "outputs": [],
   "source": [
    "df = pd.read_csv('winequality.csv')\n",
    "df.head()"
   ]
  },
  {
   "cell_type": "markdown",
   "id": "5483318c",
   "metadata": {},
   "source": [
    "#### Información de los datos\n",
    "\n",
    "fixed acidity: :la mayoría de los ácidos involucrados con el vino o fijos o no volátiles (no se evaporan fácilmente).\n",
    "\n",
    "volatile acidity: la cantidad de ácido acético en el vino, que a niveles demasiado altos puede conducir a un sabor desagradable a vinagre.\n",
    "\n",
    "citric acid: se encuentra en pequeñas cantidades, el ácido cítrico puede agregar \"frescura\" y sabor a los vinos.\n",
    "\n",
    "residual sugar: la cantidad de azúcar que queda después de que se detiene la fermentación, es raro encontrar vinos con menos de 1 gramo / litro y vinos con más de 45 gramos / litro se consideran dulces.\n",
    "\n",
    "chlorides: la cantidad de sal en el vino.\n",
    "\n",
    "free sulfur dioxide: la forma libre de SO2 existe en equilibrio entre el SO2 molecular (como gas disuelto) y el ion bisulfito; previene el crecimiento microbiano y la oxidación del vino.\n",
    "\n",
    "total sulfur dioxide: cantidad de formas libres y unidas de S02; en bajas concentraciones, el SO2 es en su mayoría indetectable en el vino, pero a concentraciones libres de SO2 superiores a 50 ppm, el SO2 se hace evidente en la nariz y el sabor del vino.\n",
    "\n",
    "density: la densidad del vino es cercana a la del agua dependiendo del porcentaje de alcohol y contenido de azúcar.\n",
    "\n",
    "pH: describe qué tan ácido o básico es un vino en una escala de 0 (muy ácido) a 14 (muy básico); la mayoría de los vinos están entre 3-4 en la escala de pH.\n",
    "\n",
    "sulphates: un aditivo del vino que puede contribuir a los niveles de gas de dióxido de azufre (S02), que actúa como antimicrobiano y antioxidante.\n",
    "\n",
    "alcohol: el porcentaje de contenido alcohólico del vino.\n",
    "\n",
    "quality: variable de salida (basada en datos sensoriales, puntuación entre 0 y 10)."
   ]
  },
  {
   "cell_type": "markdown",
   "id": "fa702d42",
   "metadata": {},
   "source": [
    "#### Exploración de datos"
   ]
  },
  {
   "cell_type": "code",
   "execution_count": null,
   "id": "f1021d55",
   "metadata": {},
   "outputs": [],
   "source": [
    "df.shape"
   ]
  },
  {
   "cell_type": "markdown",
   "id": "d3dff758",
   "metadata": {},
   "source": [
    "#### Detalles estadísticos del conjunto de datos:"
   ]
  },
  {
   "cell_type": "code",
   "execution_count": null,
   "id": "dbb490e9",
   "metadata": {},
   "outputs": [],
   "source": [
    "df.describe()"
   ]
  },
  {
   "cell_type": "markdown",
   "id": "b1277183",
   "metadata": {},
   "source": [
    "#### Comprobar valores faltantes"
   ]
  },
  {
   "cell_type": "code",
   "execution_count": null,
   "id": "6b9ccb45",
   "metadata": {},
   "outputs": [],
   "source": [
    "df.isnull().any()"
   ]
  },
  {
   "cell_type": "markdown",
   "id": "fd334709",
   "metadata": {},
   "source": [
    "_Todas las columnas deben dar False, en caso de que para cualquier columna se encuentre el resultado True, entonces se pueden eliminar todos los valores nulos de esa columna usando el código siguiente 'dataset=dataset.fillna(method='ffill')'_"
   ]
  },
  {
   "cell_type": "markdown",
   "id": "2a46c4b6",
   "metadata": {},
   "source": [
    "#### Matriz de correlación\n",
    "\n",
    "Muestra el grado de correlaciones, de cada variable en el conjunto de datos, con cada otra variable en el conjunto de datos. Es una representación de todos estos coeficientes de correlación de cada variable individual en los datos con cada otra variable en los datos.\n",
    "\n",
    "El grado de correlación entre dos variables cualesquiera se representa de dos maneras, el color del cuadro o caja y el número dentro. Cuanto más fuerte sea el color, mayor será la magnitud de la correlación.\n",
    "\n",
    "Cuanto más cerca esté el número de 1, mayor será la correlación. Si el número es positivo, establece una correlación positiva. Si es negativo establece una correlación negativa. \n",
    "\n",
    "1 y -1 establecen correlaciones perfectas entre las variables."
   ]
  },
  {
   "cell_type": "code",
   "execution_count": null,
   "id": "c60f9ada",
   "metadata": {},
   "outputs": [],
   "source": [
    "corr = df.corr()\n",
    "plt.subplots(figsize=(12,8))\n",
    "sns.heatmap(corr, xticklabels=corr.columns, yticklabels=corr.columns, annot=True, fmt='.0%',\n",
    "            cmap=sns.diverging_palette(240, 10, as_cmap=True)) "
   ]
  },
  {
   "cell_type": "code",
   "execution_count": null,
   "id": "c3777193",
   "metadata": {},
   "outputs": [],
   "source": [
    "corr['quality'].abs().sort_values(ascending=False)"
   ]
  },
  {
   "cell_type": "markdown",
   "id": "08e23adb",
   "metadata": {},
   "source": [
    "_El alcohol es la característica más correlacionada._ "
   ]
  },
  {
   "cell_type": "code",
   "execution_count": null,
   "id": "a4058f99",
   "metadata": {},
   "outputs": [],
   "source": [
    "X = df[['fixed acidity', 'volatile acidity', 'citric acid', 'residual sugar', \n",
    "             'chlorides', 'free sulfur dioxide', 'total sulfur dioxide', 'density',\n",
    "             'pH', 'sulphates','alcohol']].values\n",
    "y = df['quality'].values"
   ]
  },
  {
   "cell_type": "markdown",
   "id": "3debde95",
   "metadata": {},
   "source": [
    "Comprobemos el valor medio de la columna \"calidad\"."
   ]
  },
  {
   "cell_type": "code",
   "execution_count": null,
   "id": "0399d5d2",
   "metadata": {},
   "outputs": [],
   "source": [
    "'''\n",
    "Valor promedio de la calidad del vino\n",
    "'''\n",
    "fig, ax1 = plt.subplots(figsize=(8,6))\n",
    "ax1.hist(df.quality,align='left',alpha=0.5)\n",
    "ax1.set_xlabel('Calificación de calidad')\n"
   ]
  },
  {
   "cell_type": "markdown",
   "id": "991fa03c",
   "metadata": {},
   "source": [
    "\n",
    " \n",
    "Como podemos observar, la mayoría de las veces el valor es 5 o 6. A continuación, dividimos el 80% de los datos para el conjunto de entrenamiento y  el 20% de los datos al conjunto de pruebas usando el código de abajo."
   ]
  },
  {
   "cell_type": "code",
   "execution_count": null,
   "id": "501c63a7",
   "metadata": {},
   "outputs": [],
   "source": [
    "X_train, X_test, y_train, y_test = train_test_split(X, y, test_size=0.2, random_state=0)"
   ]
  },
  {
   "cell_type": "markdown",
   "id": "ff8be305",
   "metadata": {},
   "source": [
    "#### Entrenamiento\n",
    "\n",
    "Ahora vamos a entrenar nuestro modelo"
   ]
  },
  {
   "cell_type": "code",
   "execution_count": null,
   "id": "7f68fe97",
   "metadata": {},
   "outputs": [],
   "source": [
    "regressor = LinearRegression() \n",
    "regressor.fit(X_train, y_train)"
   ]
  },
  {
   "cell_type": "code",
   "execution_count": null,
   "id": "67fd7fda",
   "metadata": {},
   "outputs": [],
   "source": [
    "df = df.drop(['quality'], axis=1)\n",
    "df = df.T"
   ]
  },
  {
   "cell_type": "code",
   "execution_count": null,
   "id": "424a4a2c",
   "metadata": {},
   "outputs": [],
   "source": [
    "df = df.index\n",
    "df"
   ]
  },
  {
   "cell_type": "markdown",
   "id": "cd938ae2",
   "metadata": {},
   "source": [
    "Como se ha dicho antes, en el caso de la regresión lineal multivariable, el modelo de regresión tiene que encontrar los coeficientes más óptimos para todos los atributos. Para ver qué coeficientes ha elegido nuestro modelo de regresión, ejecutamos el siguiente código:"
   ]
  },
  {
   "cell_type": "code",
   "execution_count": null,
   "id": "cf2c4136",
   "metadata": {},
   "outputs": [],
   "source": [
    "coeff_df = pd.DataFrame(regressor.coef_, df, columns=['Coefficient']) \n",
    "coeff_df"
   ]
  },
  {
   "cell_type": "markdown",
   "id": "20730b75",
   "metadata": {},
   "source": [
    "Significa que para un aumento de una unidad en la \"densidad\", hay una disminución de 31,51 unidades en la calidad del vino. Del mismo modo, la disminución en una unidad de los \"cloruros\" resulta en un aumento de 1,87 unidades en la calidad del vino. Podemos ver que el resto de los atributos tienen muy poco efecto en la calidad del vino.”\n",
    "\n",
    "#### Predicción sobre los datos de la prueba"
   ]
  },
  {
   "cell_type": "code",
   "execution_count": null,
   "id": "77aca1ff",
   "metadata": {},
   "outputs": [],
   "source": [
    "y_pred = regressor.predict(X_test)"
   ]
  },
  {
   "cell_type": "markdown",
   "id": "0da03bad",
   "metadata": {},
   "source": [
    "Revisemos la diferencia entre el valor real y el valor previsto."
   ]
  },
  {
   "cell_type": "code",
   "execution_count": null,
   "id": "bfbbdfb9",
   "metadata": {},
   "outputs": [],
   "source": [
    "df = pd.DataFrame({'Actual': y_test, 'Predicted': y_pred})\n",
    "df1 = df.head(25)\n",
    "df1.head()"
   ]
  },
  {
   "cell_type": "markdown",
   "id": "ece8965a",
   "metadata": {},
   "source": [
    "#### Comparación entre el valor real y el valor de la predicción\n",
    "\n",
    "Ahora vamos a graficar la comparación de los valores reales y los valores de la predicción"
   ]
  },
  {
   "cell_type": "code",
   "execution_count": null,
   "id": "7294b9db",
   "metadata": {},
   "outputs": [],
   "source": [
    "df1.plot(kind='bar',figsize=(10,8))\n",
    "plt.grid(which='major', linestyle='-', linewidth='0.5', color='darkgreen')\n",
    "plt.grid(which='minor', linestyle=':', linewidth='0.5', color='black')\n",
    "plt.show()\n",
    "'''\n",
    "Gráfico de barras mostrando las diferencias entre los valores reales y los de la predicción.\n",
    "'''"
   ]
  },
  {
   "cell_type": "markdown",
   "id": "218b9236",
   "metadata": {},
   "source": [
    "El modelo ha dado resultados aproximados de predicción, aunque hay valores que evidencian una diferencia notable. "
   ]
  },
  {
   "cell_type": "markdown",
   "id": "ee3b309e",
   "metadata": {},
   "source": [
    "#### Métricas\n",
    "\n",
    "El paso final es evaluar el rendimiento del algoritmo. Lo haremos encontrando los valores de MAE, MSE y RMSE. "
   ]
  },
  {
   "cell_type": "code",
   "execution_count": null,
   "id": "5eaec8d4",
   "metadata": {},
   "outputs": [],
   "source": [
    "print('Mean Absolute Error:', metrics.mean_absolute_error(y_test, y_pred)) \n",
    "print('Mean Squared Error:', metrics.mean_squared_error(y_test, y_pred)) \n",
    "print('Root Mean Squared Error:', np.sqrt(metrics.mean_squared_error(y_test, y_pred)))"
   ]
  },
  {
   "cell_type": "markdown",
   "id": "a5a9a652",
   "metadata": {},
   "source": [
    "Se puede ver que el valor de la raíz del error cuadrático medio es de 0,62, que es ligeramente superior al 10% del valor de la media que es de 5,63. Esto significa que nuestro algoritmo no fue muy preciso pero aún así puede hacer predicciones razonablemente buenas.\n",
    "\n",
    "Hay muchos factores que pueden haber contribuido a esta inexactitud, por ejemplo:\n",
    "\n",
    "1. Necesita más datos: Necesitamos una gran cantidad de datos para obtener la mejor predicción posible.\n",
    "2. Malas suposiciones: Hicimos la suposición de que estos datos tienen una relación lineal, pero puede que no sea así. Visualizar los datos puede ayudar a determinar eso.\n",
    "3. Atributos pobres: Los atributos  que usamos pueden no tener una correlación lo suficientemente alta con los valores que tratamos de predecir."
   ]
  },
  {
   "cell_type": "markdown",
   "id": "a990578a",
   "metadata": {},
   "source": [
    "#### Regresión aplicada a un grupo de características\n",
    "\n",
    "A modo de ejemplo se realiza una estimación de calidad basada en solo un grupo de características. Para ello vamos a utilizar Regresión Lineal. También trazaremos los valores de predicción y calidad verdadera."
   ]
  },
  {
   "cell_type": "code",
   "execution_count": null,
   "id": "88f264df",
   "metadata": {},
   "outputs": [],
   "source": [
    "df = pd.read_csv('winequality.csv')\n",
    "X = df.loc[:,['alcohol','sulphates','citric acid','volatile acidity']]\n",
    "y = df.iloc[:,11]\n",
    "\n",
    "X_train, X_test, y_train, y_test = train_test_split(X, y, test_size=0.3, random_state=42)"
   ]
  },
  {
   "cell_type": "code",
   "execution_count": null,
   "id": "b1ce2d23",
   "metadata": {},
   "outputs": [],
   "source": [
    "regressor = LinearRegression()\n",
    "regressor.fit(X_train, y_train)\n",
    "y_prediction_lr = regressor.predict(X_test)\n",
    "y_prediction_lr = np.round(y_prediction_lr)"
   ]
  },
  {
   "cell_type": "code",
   "execution_count": null,
   "id": "3f8489ea",
   "metadata": {},
   "outputs": [],
   "source": [
    "plt.scatter(y_test,y_prediction_lr)\n",
    "plt.title(\"Predicción usando Regresión Lineal\")\n",
    "plt.xlabel(\"Calidad Real\")\n",
    "plt.ylabel(\"Predicción\")\n",
    "plt.show()"
   ]
  }
 ],
 "metadata": {
  "kernelspec": {
   "display_name": "Python 3.10.6 64-bit",
   "language": "python",
   "name": "python3"
  },
  "language_info": {
   "codemirror_mode": {
    "name": "ipython",
    "version": 3
   },
   "file_extension": ".py",
   "mimetype": "text/x-python",
   "name": "python",
   "nbconvert_exporter": "python",
   "pygments_lexer": "ipython3",
   "version": "3.10.6"
  },
  "vscode": {
   "interpreter": {
    "hash": "916dbcbb3f70747c44a77c7bcd40155683ae19c65e1c03b4aa3499c5328201f1"
   }
  }
 },
 "nbformat": 4,
 "nbformat_minor": 5
}
